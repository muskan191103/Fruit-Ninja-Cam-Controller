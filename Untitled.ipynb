{
 "cells": [
  {
   "cell_type": "code",
   "execution_count": 1,
   "id": "10816b84-9eeb-41d6-856c-600d5b58f615",
   "metadata": {},
   "outputs": [],
   "source": [
    "import mediapipe as mp\n",
    "import cv2\n",
    "import numpy as np\n",
    "from mediapipe.framework.formats import landmark_pb2\n",
    "import time\n",
    "import win32api\n",
    "import pyautogui"
   ]
  },
  {
   "cell_type": "code",
   "execution_count": 2,
   "id": "4371087c-071f-4884-8acf-f4fdaf2196e5",
   "metadata": {},
   "outputs": [],
   "source": [
    "# for drawing lines on hands\n",
    "mp_drawing = mp.solutions.drawing_utils\n",
    "# for getting information about hands \n",
    "mp_hands = mp.solutions.hands"
   ]
  },
  {
   "cell_type": "code",
   "execution_count": 3,
   "id": "42c15351-8dc0-4158-a7dc-b7b59c66e211",
   "metadata": {},
   "outputs": [],
   "source": [
    "video = cv2.VideoCapture(0)"
   ]
  },
  {
   "cell_type": "code",
   "execution_count": 4,
   "id": "d6864110-cb50-4526-914b-01c8079deebd",
   "metadata": {},
   "outputs": [],
   "source": [
    "#  with mp_hands.Hands(min_detection_confidence = 0.8,min_tracking_confidence = 0.5) as hands:\n",
    "#      while video.isOpened():\n",
    "#          _,frame = video.read()\n",
    "#          image = cv2.cvtColor(frame,cv2.COLOR_BGR2RGB)\n",
    "#          image = cv2.flip(image,1)\n",
    "       \n",
    "#          image_height,image_width,_ = image.shape\n",
    "       \n",
    "#          results = hands.process(image)\n",
    "\n",
    "#          image = cv2.cvtColor(image,cv2.COLOR_RGB2BGR)\n",
    "\n",
    "\n",
    "#          # This Following block of code is not neccessary for the project but it looks good and understandable to show the marks\n",
    "#          if results.multi_hand_landmarks:\n",
    "#              for num,hand in enumerate(results.multi_hand_landmarks):\n",
    "#                  mp_drawing.draw_landmarks(image,hand,mp_hands.HAND_CONNECTIONS,\n",
    "#                                           mp_drawing.DrawingSpec(color = (250,44,250),thickness = 2,circle_radius = 2))\n",
    "\n",
    "#          if results.multi_hand_landmarks !=None:\n",
    "#              for handsLandmarks in results.multi_hand_landmarks:\n",
    "#                  for points in mp_hands.HandLandmark:\n",
    "#                      normalizedLandmark = handsLandmarks.landmark[points]\n",
    "#                      pixelCoordinatesLandmark = mp_drawing._normalized_to_pixel_coordinates(normalizedLandmark.x,normalizedLandmark.y,image_width,image_height)\n",
    "#                      if points == 'HandLandmark.INDEX_FINGER_TIP':\n",
    "#                          try:\n",
    "#                             cv2.circle(image,(pixelCoordinatesLandmark[0],pixelCoordinatesLandmark[1]),25,(0,200,0),5)\n",
    "#                             indexfingertip_x = pixelCoordinatesLandmark[0]\n",
    "#                         except:\n",
    "#                             pass\n",
    "\n",
    "#          cv2.imshow('game',image)\n",
    "#          if cv2.waitKey(10) & 0xFF == ord('q'):\n",
    "#              break\n",
    "\n",
    "# video.release()\n",
    "# cv2.destroyAllWindows()   \n",
    "# indexfingertip_y = pixelCoordinatesLandmark[1]\n",
    "# win32api.SetCursorPos((indexfingertip_x*4,indexfingertip_y*5))\n",
    "# pyautogui.mouseDown(button = 'left')\n",
    "\n",
    "                       "
   ]
  },
  {
   "cell_type": "code",
   "execution_count": null,
   "id": "a74c5182-888e-437a-9932-ae241ed31451",
   "metadata": {},
   "outputs": [
    {
     "name": "stderr",
     "output_type": "stream",
     "text": [
      "C:\\Users\\HP\\AppData\\Local\\Programs\\Python\\Python312\\Lib\\site-packages\\google\\protobuf\\symbol_database.py:55: UserWarning: SymbolDatabase.GetPrototype() is deprecated. Please use message_factory.GetMessageClass() instead. SymbolDatabase.GetPrototype() will be removed soon.\n",
      "  warnings.warn('SymbolDatabase.GetPrototype() is deprecated. Please '\n"
     ]
    }
   ],
   "source": [
    "# Get screen size for cursor scaling\n",
    "screen_width, screen_height = pyautogui.size()\n",
    "\n",
    "# Use MediaPipe Hands\n",
    "with mp_hands.Hands(min_detection_confidence=0.8, min_tracking_confidence=0.5) as hands:\n",
    "    while video.isOpened():\n",
    "        _, frame = video.read()\n",
    "        image = cv2.cvtColor(frame, cv2.COLOR_BGR2RGB)\n",
    "        image = cv2.flip(image, 1)\n",
    "\n",
    "        image_height, image_width, _ = image.shape\n",
    "\n",
    "        # Process the frame with MediaPipe\n",
    "        results = hands.process(image)\n",
    "\n",
    "        image = cv2.cvtColor(image, cv2.COLOR_RGB2BGR)\n",
    "\n",
    "        # Draw hand landmarks if detected\n",
    "        if results.multi_hand_landmarks:\n",
    "            for num, hand in enumerate(results.multi_hand_landmarks):\n",
    "                mp_drawing.draw_landmarks(\n",
    "                    image, hand, mp_hands.HAND_CONNECTIONS,\n",
    "                    mp_drawing.DrawingSpec(color=(250, 44, 250), thickness=2, circle_radius=2)\n",
    "                )\n",
    "\n",
    "        # Check for hand landmarks to move cursor\n",
    "        if results.multi_hand_landmarks:\n",
    "            for hand_landmarks in results.multi_hand_landmarks:\n",
    "                for points in mp_hands.HandLandmark:\n",
    "                    normalized_landmark = hand_landmarks.landmark[points]\n",
    "                    pixel_coordinates = mp_drawing._normalized_to_pixel_coordinates(\n",
    "                        normalized_landmark.x, normalized_landmark.y, image_width, image_height\n",
    "                    )\n",
    "                    if points == mp_hands.HandLandmark.INDEX_FINGER_TIP:\n",
    "                        try:\n",
    "                            # Scale the coordinates to match the screen size\n",
    "                            indexfingertip_x = int(pixel_coordinates[0] * screen_width / image_width)\n",
    "                            indexfingertip_y = int(pixel_coordinates[1] * screen_height / image_height)\n",
    "\n",
    "                            # Move the cursor to the scaled coordinates\n",
    "                            win32api.SetCursorPos((indexfingertip_x, indexfingertip_y))\n",
    "\n",
    "                            # Simulate mouse click\n",
    "                            pyautogui.mouseDown(button='left')\n",
    "\n",
    "                        except Exception as e:\n",
    "                            print(e)\n",
    "\n",
    "        # Display the image in a window\n",
    "        cv2.imshow('game', image)\n",
    "\n",
    "        # Exit the loop on pressing 'q'\n",
    "        if cv2.waitKey(10) & 0xFF == ord('q'):\n",
    "            break\n",
    "\n",
    "# Release video capture and destroy OpenCV windows\n",
    "video.release()\n",
    "cv2.destroyAllWindows()"
   ]
  },
  {
   "cell_type": "code",
   "execution_count": null,
   "id": "cc0c346f-613f-44c4-9d6d-0c85f52c9e59",
   "metadata": {},
   "outputs": [],
   "source": []
  }
 ],
 "metadata": {
  "kernelspec": {
   "display_name": "Python 3 (ipykernel)",
   "language": "python",
   "name": "python3"
  },
  "language_info": {
   "codemirror_mode": {
    "name": "ipython",
    "version": 3
   },
   "file_extension": ".py",
   "mimetype": "text/x-python",
   "name": "python",
   "nbconvert_exporter": "python",
   "pygments_lexer": "ipython3",
   "version": "3.12.6"
  }
 },
 "nbformat": 4,
 "nbformat_minor": 5
}
